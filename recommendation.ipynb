{
 "cells": [
  {
   "cell_type": "code",
   "execution_count": 1,
   "metadata": {},
   "outputs": [],
   "source": [
    "import pandas as pd\n",
    "import numpy as np\n",
    "import pickle\n",
    "import re\n",
    "import mysql.connector\n",
    "from mysql.connector import Error"
   ]
  },
  {
   "cell_type": "code",
   "execution_count": 2,
   "metadata": {},
   "outputs": [],
   "source": [
    "# Connecting to the database\n",
    "# Enter your own host name, user name, password, database name\n",
    "mymoviesafrica = mysql.connector.connect(host=\"localhost\", user=\"root\", passwd=\"#####\", database=\"mymoviesafrica\")"
   ]
  },
  {
   "cell_type": "code",
   "execution_count": 3,
   "metadata": {},
   "outputs": [],
   "source": [
    "# Loading the data\n",
    "content = pd.read_sql(\"SELECT id, title, synopsis, genres, tags FROM content\", mymoviesafrica)"
   ]
  },
  {
   "cell_type": "code",
   "execution_count": 4,
   "metadata": {},
   "outputs": [
    {
     "name": "stdout",
     "output_type": "stream",
     "text": [
      "<class 'pandas.core.frame.DataFrame'>\n",
      "RangeIndex: 101 entries, 0 to 100\n",
      "Data columns (total 5 columns):\n",
      " #   Column    Non-Null Count  Dtype \n",
      "---  ------    --------------  ----- \n",
      " 0   id        101 non-null    int64 \n",
      " 1   title     101 non-null    object\n",
      " 2   synopsis  101 non-null    object\n",
      " 3   genres    101 non-null    object\n",
      " 4   tags      101 non-null    object\n",
      "dtypes: int64(1), object(4)\n",
      "memory usage: 4.1+ KB\n"
     ]
    }
   ],
   "source": [
    "# Information on the data\n",
    "content.info()"
   ]
  },
  {
   "cell_type": "code",
   "execution_count": 5,
   "metadata": {},
   "outputs": [
    {
     "data": {
      "text/html": [
       "<div>\n",
       "<style scoped>\n",
       "    .dataframe tbody tr th:only-of-type {\n",
       "        vertical-align: middle;\n",
       "    }\n",
       "\n",
       "    .dataframe tbody tr th {\n",
       "        vertical-align: top;\n",
       "    }\n",
       "\n",
       "    .dataframe thead th {\n",
       "        text-align: right;\n",
       "    }\n",
       "</style>\n",
       "<table border=\"1\" class=\"dataframe\">\n",
       "  <thead>\n",
       "    <tr style=\"text-align: right;\">\n",
       "      <th></th>\n",
       "      <th>id</th>\n",
       "      <th>title</th>\n",
       "      <th>synopsis</th>\n",
       "      <th>genres</th>\n",
       "      <th>tags</th>\n",
       "    </tr>\n",
       "  </thead>\n",
       "  <tbody>\n",
       "    <tr>\n",
       "      <th>0</th>\n",
       "      <td>1</td>\n",
       "      <td>NAIROBI HALF LIFE</td>\n",
       "      <td>The Award-winning Story of a young, aspiring A...</td>\n",
       "      <td>[\"#OwnForLife Offer: KES199 or $1.99 (Diaspora...</td>\n",
       "      <td>Joseph Wairimu, Olwenya Maina, Nancy Wanjiku K...</td>\n",
       "    </tr>\n",
       "    <tr>\n",
       "      <th>1</th>\n",
       "      <td>2</td>\n",
       "      <td>KATUTURA</td>\n",
       "      <td>In this Township of Windhoek, ex-convict Dangi...</td>\n",
       "      <td>[\"Action\",\"Crime\",\"Drama\",\"Suspense\"]</td>\n",
       "      <td>Chops Tshoopara, Obed Emvula, Gift Uzera, Odil...</td>\n",
       "    </tr>\n",
       "    <tr>\n",
       "      <th>2</th>\n",
       "      <td>3</td>\n",
       "      <td>SOUL BOY</td>\n",
       "      <td>This is the story of 14 year-old Abila (Samson...</td>\n",
       "      <td>[\"#OwnForLife Offer: KES199 or $1.99 (Diaspora...</td>\n",
       "      <td>Samson Odhiambo, Leila Dayan Opou, Krysteen Sa...</td>\n",
       "    </tr>\n",
       "    <tr>\n",
       "      <th>3</th>\n",
       "      <td>4</td>\n",
       "      <td>KATI KATI</td>\n",
       "      <td>A young woman - Kaleche (Nyokabi Gethaiga), wi...</td>\n",
       "      <td>[\"Drama\",\"Madaraka Day Weekend Movie Marathon ...</td>\n",
       "      <td>Nyokabi Gethaiga, Elsaphan Njora, Paul Ogola, ...</td>\n",
       "    </tr>\n",
       "    <tr>\n",
       "      <th>4</th>\n",
       "      <td>5</td>\n",
       "      <td>SOMETHING NECESSARY</td>\n",
       "      <td>Award-winning Director Judy Kibinge, tells the...</td>\n",
       "      <td>[\"Crime\",\"Drama\",\"Family\",\"Madaraka Day Weeken...</td>\n",
       "      <td>Hilda Jepkoech, Kipngeno Kirui Duncan, Carolyn...</td>\n",
       "    </tr>\n",
       "  </tbody>\n",
       "</table>\n",
       "</div>"
      ],
      "text/plain": [
       "   id                title                                           synopsis  \\\n",
       "0   1    NAIROBI HALF LIFE  The Award-winning Story of a young, aspiring A...   \n",
       "1   2             KATUTURA  In this Township of Windhoek, ex-convict Dangi...   \n",
       "2   3             SOUL BOY  This is the story of 14 year-old Abila (Samson...   \n",
       "3   4            KATI KATI  A young woman - Kaleche (Nyokabi Gethaiga), wi...   \n",
       "4   5  SOMETHING NECESSARY  Award-winning Director Judy Kibinge, tells the...   \n",
       "\n",
       "                                              genres  \\\n",
       "0  [\"#OwnForLife Offer: KES199 or $1.99 (Diaspora...   \n",
       "1              [\"Action\",\"Crime\",\"Drama\",\"Suspense\"]   \n",
       "2  [\"#OwnForLife Offer: KES199 or $1.99 (Diaspora...   \n",
       "3  [\"Drama\",\"Madaraka Day Weekend Movie Marathon ...   \n",
       "4  [\"Crime\",\"Drama\",\"Family\",\"Madaraka Day Weeken...   \n",
       "\n",
       "                                                tags  \n",
       "0  Joseph Wairimu, Olwenya Maina, Nancy Wanjiku K...  \n",
       "1  Chops Tshoopara, Obed Emvula, Gift Uzera, Odil...  \n",
       "2  Samson Odhiambo, Leila Dayan Opou, Krysteen Sa...  \n",
       "3  Nyokabi Gethaiga, Elsaphan Njora, Paul Ogola, ...  \n",
       "4  Hilda Jepkoech, Kipngeno Kirui Duncan, Carolyn...  "
      ]
     },
     "execution_count": 5,
     "metadata": {},
     "output_type": "execute_result"
    }
   ],
   "source": [
    "# Previewing the data\n",
    "content.head()"
   ]
  },
  {
   "cell_type": "markdown",
   "metadata": {},
   "source": [
    "# Data Cleaning"
   ]
  },
  {
   "cell_type": "markdown",
   "metadata": {},
   "source": [
    "Cleaning synopsis"
   ]
  },
  {
   "cell_type": "code",
   "execution_count": 76,
   "metadata": {},
   "outputs": [
    {
     "data": {
      "text/plain": [
       "'A young woman - Kaleche (Nyokabi Gethaiga), with No Memory of her Life or Death, is Helped with Assimilation to the Afterlife by a Ghost called Thoma (Elsaphan Njora).'"
      ]
     },
     "execution_count": 76,
     "metadata": {},
     "output_type": "execute_result"
    }
   ],
   "source": [
    "# Sample synopsis to track cleaning process\n",
    "content['synopsis'][3]"
   ]
  },
  {
   "cell_type": "code",
   "execution_count": 77,
   "metadata": {},
   "outputs": [],
   "source": [
    "# Removing actor's names from the synopsis which are in brackets. Their names are already in tags\n",
    "content['synopsis'] = content['synopsis'].apply(lambda x : re.sub(r\"\\([^()]*\\)\", \"\", x))"
   ]
  },
  {
   "cell_type": "code",
   "execution_count": 78,
   "metadata": {},
   "outputs": [
    {
     "data": {
      "text/plain": [
       "'A young woman - Kaleche , with No Memory of her Life or Death, is Helped with Assimilation to the Afterlife by a Ghost called Thoma .'"
      ]
     },
     "execution_count": 78,
     "metadata": {},
     "output_type": "execute_result"
    }
   ],
   "source": [
    "# Sample synopsis to track cleaning process\n",
    "content['synopsis'][3]"
   ]
  },
  {
   "cell_type": "code",
   "execution_count": 79,
   "metadata": {},
   "outputs": [],
   "source": [
    "# Lowercasing and removing all punctuation marks\n",
    "content['synopsis'] = content['synopsis'].apply(lambda x : str.lower(re.sub('[^\\w\\s]', '', x)))"
   ]
  },
  {
   "cell_type": "code",
   "execution_count": 80,
   "metadata": {},
   "outputs": [
    {
     "data": {
      "text/plain": [
       "'a young woman  kaleche  with no memory of her life or death is helped with assimilation to the afterlife by a ghost called thoma '"
      ]
     },
     "execution_count": 80,
     "metadata": {},
     "output_type": "execute_result"
    }
   ],
   "source": [
    "# Sample synopsis to track cleaning process\n",
    "content['synopsis'][3]"
   ]
  },
  {
   "cell_type": "code",
   "execution_count": 81,
   "metadata": {},
   "outputs": [
    {
     "name": "stderr",
     "output_type": "stream",
     "text": [
      "[nltk_data] Downloading package stopwords to\n",
      "[nltk_data]     C:\\Users\\hp\\AppData\\Roaming\\nltk_data...\n",
      "[nltk_data]   Package stopwords is already up-to-date!\n"
     ]
    }
   ],
   "source": [
    "# Removing stop words\n",
    "import nltk\n",
    "from nltk.corpus import stopwords\n",
    "nltk.download('stopwords')\n",
    "stop = stopwords.words('english')"
   ]
  },
  {
   "cell_type": "code",
   "execution_count": 82,
   "metadata": {},
   "outputs": [],
   "source": [
    "content['synopsis'] = content['synopsis'].apply(lambda x: ' '.join([word for word in x.split() if word not in (stop)]))"
   ]
  },
  {
   "cell_type": "code",
   "execution_count": 83,
   "metadata": {},
   "outputs": [
    {
     "data": {
      "text/plain": [
       "'young woman kaleche memory life death helped assimilation afterlife ghost called thoma'"
      ]
     },
     "execution_count": 83,
     "metadata": {},
     "output_type": "execute_result"
    }
   ],
   "source": [
    "# Sample synopsis to track cleaning process\n",
    "content['synopsis'][3]"
   ]
  },
  {
   "cell_type": "markdown",
   "metadata": {},
   "source": [
    "Cleaning genre"
   ]
  },
  {
   "cell_type": "code",
   "execution_count": 84,
   "metadata": {},
   "outputs": [
    {
     "data": {
      "text/plain": [
       "'[\"#OwnForLife Offer: KES199 or $1.99 (Diaspora)\",\"26% Off in our Birthday Month\",\"Action\",\"Adventure\",\"Crime\",\"Drama\",\"Suspense\"]'"
      ]
     },
     "execution_count": 84,
     "metadata": {},
     "output_type": "execute_result"
    }
   ],
   "source": [
    "# Sample genres to track cleaning process\n",
    "content['genres'][0]"
   ]
  },
  {
   "cell_type": "code",
   "execution_count": 85,
   "metadata": {},
   "outputs": [],
   "source": [
    "# Removing the quotation marks\n",
    "content['genres'] = content['genres'].apply(lambda x: x.replace('\"', ''))"
   ]
  },
  {
   "cell_type": "code",
   "execution_count": 86,
   "metadata": {},
   "outputs": [
    {
     "data": {
      "text/plain": [
       "'[#OwnForLife Offer: KES199 or $1.99 (Diaspora),26% Off in our Birthday Month,Action,Adventure,Crime,Drama,Suspense]'"
      ]
     },
     "execution_count": 86,
     "metadata": {},
     "output_type": "execute_result"
    }
   ],
   "source": [
    "# Sample genres to track cleaning process\n",
    "content['genres'][0]"
   ]
  },
  {
   "cell_type": "code",
   "execution_count": 87,
   "metadata": {},
   "outputs": [
    {
     "data": {
      "text/plain": [
       "'['"
      ]
     },
     "execution_count": 87,
     "metadata": {},
     "output_type": "execute_result"
    }
   ],
   "source": [
    "# The brackets are interpretted as part of the string rather than as a list\n",
    "content.genres[0][0]"
   ]
  },
  {
   "cell_type": "code",
   "execution_count": 88,
   "metadata": {},
   "outputs": [],
   "source": [
    "# Convert genres into a list of strings\n",
    "content['genres'] = content['genres'].apply(lambda x:x[1:-1].split(','))"
   ]
  },
  {
   "cell_type": "code",
   "execution_count": 89,
   "metadata": {},
   "outputs": [
    {
     "data": {
      "text/plain": [
       "['#OwnForLife Offer: KES199 or $1.99 (Diaspora)',\n",
       " '26% Off in our Birthday Month',\n",
       " 'Action',\n",
       " 'Adventure',\n",
       " 'Crime',\n",
       " 'Drama',\n",
       " 'Suspense']"
      ]
     },
     "execution_count": 89,
     "metadata": {},
     "output_type": "execute_result"
    }
   ],
   "source": [
    "# Sample genres to track cleaning process\n",
    "content.genres[0]"
   ]
  },
  {
   "cell_type": "code",
   "execution_count": 90,
   "metadata": {},
   "outputs": [],
   "source": [
    "# Filtering in the main genres\n",
    "genres = [\"Action\", \"Drama\", \"Romance\", \"Comedy\", \"Crime\", \"Family\", \"Adventure\", \"Thriller\", \"Suspense\", \"Supernatural\",\n",
    "\"Political\", \"Activism\", \"True Story\", \"Chick Flick\", \"Sports\", \"Short & Sweet\", \"Feel Good\", \"Musical\", \"Animation\", \n",
    "\"History\", \"Super Hero\", \"Fantasy\", \"Feel Good\", ]\n",
    "content['genres'] = content['genres'].apply(lambda x :[i for i in x if i in genres])"
   ]
  },
  {
   "cell_type": "code",
   "execution_count": 91,
   "metadata": {},
   "outputs": [
    {
     "data": {
      "text/plain": [
       "['Action', 'Adventure', 'Crime', 'Drama', 'Suspense']"
      ]
     },
     "execution_count": 91,
     "metadata": {},
     "output_type": "execute_result"
    }
   ],
   "source": [
    "# Sample genres to track cleaning process\n",
    "content['genres'][0]"
   ]
  },
  {
   "cell_type": "code",
   "execution_count": 92,
   "metadata": {},
   "outputs": [],
   "source": [
    "# lowercasing the genres\n",
    "content['genres'] = content['genres'].apply(lambda x : [str.lower(i.replace(\" \", \"\")) for i in x])"
   ]
  },
  {
   "cell_type": "code",
   "execution_count": 93,
   "metadata": {},
   "outputs": [
    {
     "data": {
      "text/plain": [
       "['action', 'adventure', 'crime', 'drama', 'suspense']"
      ]
     },
     "execution_count": 93,
     "metadata": {},
     "output_type": "execute_result"
    }
   ],
   "source": [
    "# Sample genres to track cleaning process\n",
    "content['genres'][0]"
   ]
  },
  {
   "cell_type": "code",
   "execution_count": 94,
   "metadata": {},
   "outputs": [],
   "source": [
    "# Converting the list to strings for easier joining later on\n",
    "content['genres'] = [' '.join(map(str, l)) for l in content['genres']]"
   ]
  },
  {
   "cell_type": "code",
   "execution_count": 95,
   "metadata": {},
   "outputs": [
    {
     "data": {
      "text/plain": [
       "'action adventure crime drama suspense'"
      ]
     },
     "execution_count": 95,
     "metadata": {},
     "output_type": "execute_result"
    }
   ],
   "source": [
    "# Sample genres to track cleaning process\n",
    "content['genres'][0]"
   ]
  },
  {
   "cell_type": "markdown",
   "metadata": {},
   "source": [
    "Cleaning tags"
   ]
  },
  {
   "cell_type": "code",
   "execution_count": 96,
   "metadata": {},
   "outputs": [],
   "source": [
    "# Removing the spacing between words \n",
    "# so that the vectorizer does not count the Brenda in \"Brenda Wairimu\" and \"Brenda Shiru\" as the same\n",
    "content['tags'] = content['tags'].apply(lambda x : str.lower(x.replace(\" \", \"\").replace(\",\", \" \")))"
   ]
  },
  {
   "cell_type": "code",
   "execution_count": 97,
   "metadata": {},
   "outputs": [
    {
     "data": {
      "text/plain": [
       "'josephwairimu olwenyamaina nancywanjikukaranja mugambinthiga toshgitonga'"
      ]
     },
     "execution_count": 97,
     "metadata": {},
     "output_type": "execute_result"
    }
   ],
   "source": [
    "content['tags'][0]"
   ]
  },
  {
   "cell_type": "code",
   "execution_count": 98,
   "metadata": {},
   "outputs": [],
   "source": [
    "# Joining all the columns together by a space so that we can use all the columns in making recommendations\n",
    "# Below is a function that we do this\n",
    "def create_soup(x):\n",
    "    return ''.join(x['synopsis']) + ' ' + ''.join(x['genres']) + ' ' + ''.join(x['tags'])\n",
    "# New column with the soup\n",
    "content['soup'] = content.apply(create_soup, axis=1)"
   ]
  },
  {
   "cell_type": "code",
   "execution_count": 99,
   "metadata": {},
   "outputs": [
    {
     "data": {
      "text/plain": [
       "'awardwinning story young aspiring actor upcountry kenya dreams becoming success big city pursuit chagrin brother parents makes way nairobi city opportunity action adventure crime drama suspense josephwairimu olwenyamaina nancywanjikukaranja mugambinthiga toshgitonga'"
      ]
     },
     "execution_count": 99,
     "metadata": {},
     "output_type": "execute_result"
    }
   ],
   "source": [
    "content['soup'][0]"
   ]
  },
  {
   "cell_type": "markdown",
   "metadata": {},
   "source": [
    "Building a recommender based on synopsis only"
   ]
  },
  {
   "cell_type": "code",
   "execution_count": 100,
   "metadata": {},
   "outputs": [
    {
     "data": {
      "text/plain": [
       "(101, 1887)"
      ]
     },
     "execution_count": 100,
     "metadata": {},
     "output_type": "execute_result"
    }
   ],
   "source": [
    "from sklearn.feature_extraction.text import TfidfVectorizer\n",
    "\n",
    "tfidf = TfidfVectorizer()\n",
    "#Replace NaN with an empty string\n",
    "content['synopsis'] = content['synopsis'].fillna('')\n",
    "\n",
    "#Construct the required TF-IDF matrix by fitting and transforming the data\n",
    "tfidf_matrix = tfidf.fit_transform(content['synopsis'])\n",
    "\n",
    "tfidf_matrix.shape"
   ]
  },
  {
   "cell_type": "code",
   "execution_count": 101,
   "metadata": {},
   "outputs": [],
   "source": [
    "# Import linear_kernel\n",
    "from sklearn.metrics.pairwise import linear_kernel\n",
    "\n",
    "# Compute the cosine similarity matrix\n",
    "synopsis_similarity = linear_kernel(tfidf_matrix, tfidf_matrix)"
   ]
  },
  {
   "cell_type": "code",
   "execution_count": 102,
   "metadata": {},
   "outputs": [],
   "source": [
    "# Converting it to a dataframe with the movie ids as the indices and columns\n",
    "synopsis_similarity = pd.DataFrame(synopsis_similarity, columns=content['id'].values, index=content['id'].values)"
   ]
  },
  {
   "cell_type": "code",
   "execution_count": 139,
   "metadata": {},
   "outputs": [
    {
     "data": {
      "text/html": [
       "<div>\n",
       "<style scoped>\n",
       "    .dataframe tbody tr th:only-of-type {\n",
       "        vertical-align: middle;\n",
       "    }\n",
       "\n",
       "    .dataframe tbody tr th {\n",
       "        vertical-align: top;\n",
       "    }\n",
       "\n",
       "    .dataframe thead th {\n",
       "        text-align: right;\n",
       "    }\n",
       "</style>\n",
       "<table border=\"1\" class=\"dataframe\">\n",
       "  <thead>\n",
       "    <tr style=\"text-align: right;\">\n",
       "      <th></th>\n",
       "      <th>1</th>\n",
       "      <th>2</th>\n",
       "      <th>3</th>\n",
       "      <th>4</th>\n",
       "      <th>5</th>\n",
       "      <th>6</th>\n",
       "      <th>7</th>\n",
       "      <th>8</th>\n",
       "      <th>9</th>\n",
       "      <th>10</th>\n",
       "      <th>...</th>\n",
       "      <th>99</th>\n",
       "      <th>100</th>\n",
       "      <th>101</th>\n",
       "      <th>102</th>\n",
       "      <th>103</th>\n",
       "      <th>104</th>\n",
       "      <th>105</th>\n",
       "      <th>106</th>\n",
       "      <th>107</th>\n",
       "      <th>108</th>\n",
       "    </tr>\n",
       "  </thead>\n",
       "  <tbody>\n",
       "    <tr>\n",
       "      <th>1</th>\n",
       "      <td>1.000000</td>\n",
       "      <td>0.000000</td>\n",
       "      <td>0.008599</td>\n",
       "      <td>0.019240</td>\n",
       "      <td>0.058873</td>\n",
       "      <td>0.059856</td>\n",
       "      <td>0.010513</td>\n",
       "      <td>0.029560</td>\n",
       "      <td>0.009745</td>\n",
       "      <td>0.065129</td>\n",
       "      <td>...</td>\n",
       "      <td>0.032757</td>\n",
       "      <td>0.024163</td>\n",
       "      <td>0.012853</td>\n",
       "      <td>0.012532</td>\n",
       "      <td>0.056005</td>\n",
       "      <td>0.029064</td>\n",
       "      <td>0.049161</td>\n",
       "      <td>0.015818</td>\n",
       "      <td>0.009830</td>\n",
       "      <td>0.012388</td>\n",
       "    </tr>\n",
       "    <tr>\n",
       "      <th>2</th>\n",
       "      <td>0.000000</td>\n",
       "      <td>1.000000</td>\n",
       "      <td>0.000000</td>\n",
       "      <td>0.024457</td>\n",
       "      <td>0.034286</td>\n",
       "      <td>0.023484</td>\n",
       "      <td>0.000000</td>\n",
       "      <td>0.024765</td>\n",
       "      <td>0.000000</td>\n",
       "      <td>0.008724</td>\n",
       "      <td>...</td>\n",
       "      <td>0.016578</td>\n",
       "      <td>0.000000</td>\n",
       "      <td>0.016661</td>\n",
       "      <td>0.000000</td>\n",
       "      <td>0.043163</td>\n",
       "      <td>0.000000</td>\n",
       "      <td>0.000000</td>\n",
       "      <td>0.000000</td>\n",
       "      <td>0.085778</td>\n",
       "      <td>0.015746</td>\n",
       "    </tr>\n",
       "    <tr>\n",
       "      <th>3</th>\n",
       "      <td>0.008599</td>\n",
       "      <td>0.000000</td>\n",
       "      <td>1.000000</td>\n",
       "      <td>0.023152</td>\n",
       "      <td>0.029668</td>\n",
       "      <td>0.041518</td>\n",
       "      <td>0.034606</td>\n",
       "      <td>0.000000</td>\n",
       "      <td>0.005591</td>\n",
       "      <td>0.033381</td>\n",
       "      <td>...</td>\n",
       "      <td>0.015073</td>\n",
       "      <td>0.000000</td>\n",
       "      <td>0.037792</td>\n",
       "      <td>0.008206</td>\n",
       "      <td>0.077684</td>\n",
       "      <td>0.008337</td>\n",
       "      <td>0.009892</td>\n",
       "      <td>0.028886</td>\n",
       "      <td>0.030605</td>\n",
       "      <td>0.007107</td>\n",
       "    </tr>\n",
       "    <tr>\n",
       "      <th>4</th>\n",
       "      <td>0.019240</td>\n",
       "      <td>0.024457</td>\n",
       "      <td>0.023152</td>\n",
       "      <td>1.000000</td>\n",
       "      <td>0.044683</td>\n",
       "      <td>0.040194</td>\n",
       "      <td>0.000000</td>\n",
       "      <td>0.012775</td>\n",
       "      <td>0.000000</td>\n",
       "      <td>0.018909</td>\n",
       "      <td>...</td>\n",
       "      <td>0.010233</td>\n",
       "      <td>0.000000</td>\n",
       "      <td>0.000000</td>\n",
       "      <td>0.008044</td>\n",
       "      <td>0.031629</td>\n",
       "      <td>0.018655</td>\n",
       "      <td>0.000000</td>\n",
       "      <td>0.020306</td>\n",
       "      <td>0.048939</td>\n",
       "      <td>0.018227</td>\n",
       "    </tr>\n",
       "    <tr>\n",
       "      <th>5</th>\n",
       "      <td>0.058873</td>\n",
       "      <td>0.034286</td>\n",
       "      <td>0.029668</td>\n",
       "      <td>0.044683</td>\n",
       "      <td>1.000000</td>\n",
       "      <td>0.043433</td>\n",
       "      <td>0.005754</td>\n",
       "      <td>0.016177</td>\n",
       "      <td>0.075271</td>\n",
       "      <td>0.041501</td>\n",
       "      <td>...</td>\n",
       "      <td>0.037514</td>\n",
       "      <td>0.021552</td>\n",
       "      <td>0.016444</td>\n",
       "      <td>0.006859</td>\n",
       "      <td>0.036246</td>\n",
       "      <td>0.015906</td>\n",
       "      <td>0.000000</td>\n",
       "      <td>0.008657</td>\n",
       "      <td>0.063192</td>\n",
       "      <td>0.014550</td>\n",
       "    </tr>\n",
       "    <tr>\n",
       "      <th>...</th>\n",
       "      <td>...</td>\n",
       "      <td>...</td>\n",
       "      <td>...</td>\n",
       "      <td>...</td>\n",
       "      <td>...</td>\n",
       "      <td>...</td>\n",
       "      <td>...</td>\n",
       "      <td>...</td>\n",
       "      <td>...</td>\n",
       "      <td>...</td>\n",
       "      <td>...</td>\n",
       "      <td>...</td>\n",
       "      <td>...</td>\n",
       "      <td>...</td>\n",
       "      <td>...</td>\n",
       "      <td>...</td>\n",
       "      <td>...</td>\n",
       "      <td>...</td>\n",
       "      <td>...</td>\n",
       "      <td>...</td>\n",
       "      <td>...</td>\n",
       "    </tr>\n",
       "    <tr>\n",
       "      <th>104</th>\n",
       "      <td>0.029064</td>\n",
       "      <td>0.000000</td>\n",
       "      <td>0.008337</td>\n",
       "      <td>0.018655</td>\n",
       "      <td>0.015906</td>\n",
       "      <td>0.048355</td>\n",
       "      <td>0.010194</td>\n",
       "      <td>0.009649</td>\n",
       "      <td>0.009448</td>\n",
       "      <td>0.006655</td>\n",
       "      <td>...</td>\n",
       "      <td>0.014299</td>\n",
       "      <td>0.000000</td>\n",
       "      <td>0.000000</td>\n",
       "      <td>0.047126</td>\n",
       "      <td>0.049157</td>\n",
       "      <td>1.000000</td>\n",
       "      <td>0.025681</td>\n",
       "      <td>0.015337</td>\n",
       "      <td>0.040096</td>\n",
       "      <td>0.012011</td>\n",
       "    </tr>\n",
       "    <tr>\n",
       "      <th>105</th>\n",
       "      <td>0.049161</td>\n",
       "      <td>0.000000</td>\n",
       "      <td>0.009892</td>\n",
       "      <td>0.000000</td>\n",
       "      <td>0.000000</td>\n",
       "      <td>0.031762</td>\n",
       "      <td>0.000000</td>\n",
       "      <td>0.000000</td>\n",
       "      <td>0.040728</td>\n",
       "      <td>0.014873</td>\n",
       "      <td>...</td>\n",
       "      <td>0.048715</td>\n",
       "      <td>0.000000</td>\n",
       "      <td>0.051392</td>\n",
       "      <td>0.007208</td>\n",
       "      <td>0.013206</td>\n",
       "      <td>0.025681</td>\n",
       "      <td>1.000000</td>\n",
       "      <td>0.000000</td>\n",
       "      <td>0.016388</td>\n",
       "      <td>0.026844</td>\n",
       "    </tr>\n",
       "    <tr>\n",
       "      <th>106</th>\n",
       "      <td>0.015818</td>\n",
       "      <td>0.000000</td>\n",
       "      <td>0.028886</td>\n",
       "      <td>0.020306</td>\n",
       "      <td>0.008657</td>\n",
       "      <td>0.008520</td>\n",
       "      <td>0.040579</td>\n",
       "      <td>0.010503</td>\n",
       "      <td>0.000000</td>\n",
       "      <td>0.018771</td>\n",
       "      <td>...</td>\n",
       "      <td>0.012142</td>\n",
       "      <td>0.000000</td>\n",
       "      <td>0.034977</td>\n",
       "      <td>0.006613</td>\n",
       "      <td>0.031399</td>\n",
       "      <td>0.015337</td>\n",
       "      <td>0.000000</td>\n",
       "      <td>1.000000</td>\n",
       "      <td>0.026884</td>\n",
       "      <td>0.000000</td>\n",
       "    </tr>\n",
       "    <tr>\n",
       "      <th>107</th>\n",
       "      <td>0.009830</td>\n",
       "      <td>0.085778</td>\n",
       "      <td>0.030605</td>\n",
       "      <td>0.048939</td>\n",
       "      <td>0.063192</td>\n",
       "      <td>0.020535</td>\n",
       "      <td>0.088286</td>\n",
       "      <td>0.006527</td>\n",
       "      <td>0.000000</td>\n",
       "      <td>0.056781</td>\n",
       "      <td>...</td>\n",
       "      <td>0.054048</td>\n",
       "      <td>0.000000</td>\n",
       "      <td>0.062907</td>\n",
       "      <td>0.040190</td>\n",
       "      <td>0.019512</td>\n",
       "      <td>0.040096</td>\n",
       "      <td>0.016388</td>\n",
       "      <td>0.026884</td>\n",
       "      <td>1.000000</td>\n",
       "      <td>0.000000</td>\n",
       "    </tr>\n",
       "    <tr>\n",
       "      <th>108</th>\n",
       "      <td>0.012388</td>\n",
       "      <td>0.015746</td>\n",
       "      <td>0.007107</td>\n",
       "      <td>0.018227</td>\n",
       "      <td>0.014550</td>\n",
       "      <td>0.035505</td>\n",
       "      <td>0.008690</td>\n",
       "      <td>0.017251</td>\n",
       "      <td>0.027514</td>\n",
       "      <td>0.020208</td>\n",
       "      <td>...</td>\n",
       "      <td>0.035483</td>\n",
       "      <td>0.000000</td>\n",
       "      <td>0.013751</td>\n",
       "      <td>0.005179</td>\n",
       "      <td>0.047926</td>\n",
       "      <td>0.012011</td>\n",
       "      <td>0.026844</td>\n",
       "      <td>0.000000</td>\n",
       "      <td>0.000000</td>\n",
       "      <td>1.000000</td>\n",
       "    </tr>\n",
       "  </tbody>\n",
       "</table>\n",
       "<p>101 rows × 101 columns</p>\n",
       "</div>"
      ],
      "text/plain": [
       "          1         2         3         4         5         6         7    \\\n",
       "1    1.000000  0.000000  0.008599  0.019240  0.058873  0.059856  0.010513   \n",
       "2    0.000000  1.000000  0.000000  0.024457  0.034286  0.023484  0.000000   \n",
       "3    0.008599  0.000000  1.000000  0.023152  0.029668  0.041518  0.034606   \n",
       "4    0.019240  0.024457  0.023152  1.000000  0.044683  0.040194  0.000000   \n",
       "5    0.058873  0.034286  0.029668  0.044683  1.000000  0.043433  0.005754   \n",
       "..        ...       ...       ...       ...       ...       ...       ...   \n",
       "104  0.029064  0.000000  0.008337  0.018655  0.015906  0.048355  0.010194   \n",
       "105  0.049161  0.000000  0.009892  0.000000  0.000000  0.031762  0.000000   \n",
       "106  0.015818  0.000000  0.028886  0.020306  0.008657  0.008520  0.040579   \n",
       "107  0.009830  0.085778  0.030605  0.048939  0.063192  0.020535  0.088286   \n",
       "108  0.012388  0.015746  0.007107  0.018227  0.014550  0.035505  0.008690   \n",
       "\n",
       "          8         9         10   ...       99        100       101  \\\n",
       "1    0.029560  0.009745  0.065129  ...  0.032757  0.024163  0.012853   \n",
       "2    0.024765  0.000000  0.008724  ...  0.016578  0.000000  0.016661   \n",
       "3    0.000000  0.005591  0.033381  ...  0.015073  0.000000  0.037792   \n",
       "4    0.012775  0.000000  0.018909  ...  0.010233  0.000000  0.000000   \n",
       "5    0.016177  0.075271  0.041501  ...  0.037514  0.021552  0.016444   \n",
       "..        ...       ...       ...  ...       ...       ...       ...   \n",
       "104  0.009649  0.009448  0.006655  ...  0.014299  0.000000  0.000000   \n",
       "105  0.000000  0.040728  0.014873  ...  0.048715  0.000000  0.051392   \n",
       "106  0.010503  0.000000  0.018771  ...  0.012142  0.000000  0.034977   \n",
       "107  0.006527  0.000000  0.056781  ...  0.054048  0.000000  0.062907   \n",
       "108  0.017251  0.027514  0.020208  ...  0.035483  0.000000  0.013751   \n",
       "\n",
       "          102       103       104       105       106       107       108  \n",
       "1    0.012532  0.056005  0.029064  0.049161  0.015818  0.009830  0.012388  \n",
       "2    0.000000  0.043163  0.000000  0.000000  0.000000  0.085778  0.015746  \n",
       "3    0.008206  0.077684  0.008337  0.009892  0.028886  0.030605  0.007107  \n",
       "4    0.008044  0.031629  0.018655  0.000000  0.020306  0.048939  0.018227  \n",
       "5    0.006859  0.036246  0.015906  0.000000  0.008657  0.063192  0.014550  \n",
       "..        ...       ...       ...       ...       ...       ...       ...  \n",
       "104  0.047126  0.049157  1.000000  0.025681  0.015337  0.040096  0.012011  \n",
       "105  0.007208  0.013206  0.025681  1.000000  0.000000  0.016388  0.026844  \n",
       "106  0.006613  0.031399  0.015337  0.000000  1.000000  0.026884  0.000000  \n",
       "107  0.040190  0.019512  0.040096  0.016388  0.026884  1.000000  0.000000  \n",
       "108  0.005179  0.047926  0.012011  0.026844  0.000000  0.000000  1.000000  \n",
       "\n",
       "[101 rows x 101 columns]"
      ]
     },
     "execution_count": 139,
     "metadata": {},
     "output_type": "execute_result"
    }
   ],
   "source": [
    "synopsis_similarity"
   ]
  },
  {
   "cell_type": "code",
   "execution_count": 140,
   "metadata": {},
   "outputs": [],
   "source": [
    "# Pickling the similarity dataframe for use in deployment.\n",
    "synopsis_similarity.to_pickle(\"./synopsis_similarity.pkl\")"
   ]
  },
  {
   "cell_type": "code",
   "execution_count": 141,
   "metadata": {},
   "outputs": [],
   "source": [
    "# Putting it all in a function\n",
    "def synopsis_recommender(title):\n",
    "    title_id = content[content['title'] == title]['id'].values\n",
    "    similar_id = synopsis_similarity[title_id].nlargest(6, title_id).index[1:]\n",
    "    similar_title = content[content['id'].isin(similar_id)]['title'].values.tolist()\n",
    "    return similar_title"
   ]
  },
  {
   "cell_type": "code",
   "execution_count": 142,
   "metadata": {},
   "outputs": [
    {
     "data": {
      "text/plain": [
       "['KISSING SHADOWS',\n",
       " 'Living in Bondage: Breaking Free',\n",
       " 'BLURRED',\n",
       " 'LOVE, ZAWADI x BLURRED',\n",
       " 'Christmas Spirit']"
      ]
     },
     "execution_count": 142,
     "metadata": {},
     "output_type": "execute_result"
    }
   ],
   "source": [
    "synopsis_recommender('DISCONNECT')"
   ]
  },
  {
   "cell_type": "markdown",
   "metadata": {},
   "source": [
    "Building a recommender based on genre only"
   ]
  },
  {
   "cell_type": "code",
   "execution_count": 106,
   "metadata": {},
   "outputs": [],
   "source": [
    "from sklearn.feature_extraction.text import CountVectorizer\n",
    "\n",
    "genre_count = CountVectorizer()\n",
    "genre_matrix = genre_count.fit_transform(content['genres'])"
   ]
  },
  {
   "cell_type": "code",
   "execution_count": 107,
   "metadata": {},
   "outputs": [],
   "source": [
    "# Compute the cosine similarity matrix based on the genre_matrix\n",
    "from sklearn.metrics.pairwise import cosine_similarity\n",
    "\n",
    "genre_similarity = pd.DataFrame(cosine_similarity(genre_matrix, genre_matrix), index=content['id'].values, columns=content['id'].values)"
   ]
  },
  {
   "cell_type": "code",
   "execution_count": 108,
   "metadata": {},
   "outputs": [
    {
     "data": {
      "text/html": [
       "<div>\n",
       "<style scoped>\n",
       "    .dataframe tbody tr th:only-of-type {\n",
       "        vertical-align: middle;\n",
       "    }\n",
       "\n",
       "    .dataframe tbody tr th {\n",
       "        vertical-align: top;\n",
       "    }\n",
       "\n",
       "    .dataframe thead th {\n",
       "        text-align: right;\n",
       "    }\n",
       "</style>\n",
       "<table border=\"1\" class=\"dataframe\">\n",
       "  <thead>\n",
       "    <tr style=\"text-align: right;\">\n",
       "      <th></th>\n",
       "      <th>1</th>\n",
       "      <th>2</th>\n",
       "      <th>3</th>\n",
       "      <th>4</th>\n",
       "      <th>5</th>\n",
       "      <th>6</th>\n",
       "      <th>7</th>\n",
       "      <th>8</th>\n",
       "      <th>9</th>\n",
       "      <th>10</th>\n",
       "      <th>...</th>\n",
       "      <th>99</th>\n",
       "      <th>100</th>\n",
       "      <th>101</th>\n",
       "      <th>102</th>\n",
       "      <th>103</th>\n",
       "      <th>104</th>\n",
       "      <th>105</th>\n",
       "      <th>106</th>\n",
       "      <th>107</th>\n",
       "      <th>108</th>\n",
       "    </tr>\n",
       "  </thead>\n",
       "  <tbody>\n",
       "    <tr>\n",
       "      <th>1</th>\n",
       "      <td>1.000000</td>\n",
       "      <td>0.894427</td>\n",
       "      <td>0.547723</td>\n",
       "      <td>0.447214</td>\n",
       "      <td>0.447214</td>\n",
       "      <td>0.547723</td>\n",
       "      <td>0.730297</td>\n",
       "      <td>0.000000</td>\n",
       "      <td>0.200000</td>\n",
       "      <td>0.223607</td>\n",
       "      <td>...</td>\n",
       "      <td>0.0</td>\n",
       "      <td>0.0</td>\n",
       "      <td>0.258199</td>\n",
       "      <td>0.0</td>\n",
       "      <td>0.258199</td>\n",
       "      <td>0.258199</td>\n",
       "      <td>0.258199</td>\n",
       "      <td>0.223607</td>\n",
       "      <td>0.258199</td>\n",
       "      <td>0.316228</td>\n",
       "    </tr>\n",
       "    <tr>\n",
       "      <th>2</th>\n",
       "      <td>0.894427</td>\n",
       "      <td>1.000000</td>\n",
       "      <td>0.408248</td>\n",
       "      <td>0.500000</td>\n",
       "      <td>0.500000</td>\n",
       "      <td>0.612372</td>\n",
       "      <td>0.612372</td>\n",
       "      <td>0.000000</td>\n",
       "      <td>0.223607</td>\n",
       "      <td>0.250000</td>\n",
       "      <td>...</td>\n",
       "      <td>0.0</td>\n",
       "      <td>0.0</td>\n",
       "      <td>0.288675</td>\n",
       "      <td>0.0</td>\n",
       "      <td>0.288675</td>\n",
       "      <td>0.288675</td>\n",
       "      <td>0.288675</td>\n",
       "      <td>0.250000</td>\n",
       "      <td>0.288675</td>\n",
       "      <td>0.353553</td>\n",
       "    </tr>\n",
       "    <tr>\n",
       "      <th>3</th>\n",
       "      <td>0.547723</td>\n",
       "      <td>0.408248</td>\n",
       "      <td>1.000000</td>\n",
       "      <td>0.816497</td>\n",
       "      <td>0.408248</td>\n",
       "      <td>0.333333</td>\n",
       "      <td>0.666667</td>\n",
       "      <td>0.000000</td>\n",
       "      <td>0.365148</td>\n",
       "      <td>0.612372</td>\n",
       "      <td>...</td>\n",
       "      <td>0.0</td>\n",
       "      <td>0.0</td>\n",
       "      <td>0.235702</td>\n",
       "      <td>0.0</td>\n",
       "      <td>0.235702</td>\n",
       "      <td>0.235702</td>\n",
       "      <td>0.235702</td>\n",
       "      <td>0.408248</td>\n",
       "      <td>0.235702</td>\n",
       "      <td>0.288675</td>\n",
       "    </tr>\n",
       "    <tr>\n",
       "      <th>4</th>\n",
       "      <td>0.447214</td>\n",
       "      <td>0.500000</td>\n",
       "      <td>0.816497</td>\n",
       "      <td>1.000000</td>\n",
       "      <td>0.250000</td>\n",
       "      <td>0.408248</td>\n",
       "      <td>0.408248</td>\n",
       "      <td>0.000000</td>\n",
       "      <td>0.223607</td>\n",
       "      <td>0.500000</td>\n",
       "      <td>...</td>\n",
       "      <td>0.0</td>\n",
       "      <td>0.0</td>\n",
       "      <td>0.288675</td>\n",
       "      <td>0.0</td>\n",
       "      <td>0.288675</td>\n",
       "      <td>0.288675</td>\n",
       "      <td>0.288675</td>\n",
       "      <td>0.250000</td>\n",
       "      <td>0.288675</td>\n",
       "      <td>0.353553</td>\n",
       "    </tr>\n",
       "    <tr>\n",
       "      <th>5</th>\n",
       "      <td>0.447214</td>\n",
       "      <td>0.500000</td>\n",
       "      <td>0.408248</td>\n",
       "      <td>0.250000</td>\n",
       "      <td>1.000000</td>\n",
       "      <td>0.612372</td>\n",
       "      <td>0.612372</td>\n",
       "      <td>0.288675</td>\n",
       "      <td>0.670820</td>\n",
       "      <td>0.500000</td>\n",
       "      <td>...</td>\n",
       "      <td>0.0</td>\n",
       "      <td>0.0</td>\n",
       "      <td>0.288675</td>\n",
       "      <td>0.0</td>\n",
       "      <td>0.288675</td>\n",
       "      <td>0.288675</td>\n",
       "      <td>0.288675</td>\n",
       "      <td>0.500000</td>\n",
       "      <td>0.288675</td>\n",
       "      <td>0.353553</td>\n",
       "    </tr>\n",
       "  </tbody>\n",
       "</table>\n",
       "<p>5 rows × 101 columns</p>\n",
       "</div>"
      ],
      "text/plain": [
       "        1         2         3         4         5         6         7    \\\n",
       "1  1.000000  0.894427  0.547723  0.447214  0.447214  0.547723  0.730297   \n",
       "2  0.894427  1.000000  0.408248  0.500000  0.500000  0.612372  0.612372   \n",
       "3  0.547723  0.408248  1.000000  0.816497  0.408248  0.333333  0.666667   \n",
       "4  0.447214  0.500000  0.816497  1.000000  0.250000  0.408248  0.408248   \n",
       "5  0.447214  0.500000  0.408248  0.250000  1.000000  0.612372  0.612372   \n",
       "\n",
       "        8         9         10   ...  99   100       101  102       103  \\\n",
       "1  0.000000  0.200000  0.223607  ...  0.0  0.0  0.258199  0.0  0.258199   \n",
       "2  0.000000  0.223607  0.250000  ...  0.0  0.0  0.288675  0.0  0.288675   \n",
       "3  0.000000  0.365148  0.612372  ...  0.0  0.0  0.235702  0.0  0.235702   \n",
       "4  0.000000  0.223607  0.500000  ...  0.0  0.0  0.288675  0.0  0.288675   \n",
       "5  0.288675  0.670820  0.500000  ...  0.0  0.0  0.288675  0.0  0.288675   \n",
       "\n",
       "        104       105       106       107       108  \n",
       "1  0.258199  0.258199  0.223607  0.258199  0.316228  \n",
       "2  0.288675  0.288675  0.250000  0.288675  0.353553  \n",
       "3  0.235702  0.235702  0.408248  0.235702  0.288675  \n",
       "4  0.288675  0.288675  0.250000  0.288675  0.353553  \n",
       "5  0.288675  0.288675  0.500000  0.288675  0.353553  \n",
       "\n",
       "[5 rows x 101 columns]"
      ]
     },
     "execution_count": 108,
     "metadata": {},
     "output_type": "execute_result"
    }
   ],
   "source": [
    "genre_similarity.head()"
   ]
  },
  {
   "cell_type": "code",
   "execution_count": 143,
   "metadata": {},
   "outputs": [],
   "source": [
    "# Pickling the similarity dataframe for use in deployment.\n",
    "genre_similarity.to_pickle(\"./genre_similarity.pkl\")"
   ]
  },
  {
   "cell_type": "code",
   "execution_count": 144,
   "metadata": {},
   "outputs": [],
   "source": [
    "def genre_reccomender(title):\n",
    "    title_id = content[content['title'] == title]['id'].values\n",
    "    similar_id = genre_similarity[title_id].nlargest(6, title_id).index[1:]\n",
    "    similar_title = content[content['id'].isin(similar_id)]['title'].values.tolist()\n",
    "    return similar_title"
   ]
  },
  {
   "cell_type": "code",
   "execution_count": 145,
   "metadata": {},
   "outputs": [
    {
     "data": {
      "text/plain": [
       "['SIPHO DLAMINI',\n",
       " 'KISSING SHADOWS',\n",
       " 'YOU AGAIN',\n",
       " 'QUEEN OF THE SUN',\n",
       " 'THE STRAIGHT PATH']"
      ]
     },
     "execution_count": 145,
     "metadata": {},
     "output_type": "execute_result"
    }
   ],
   "source": [
    "genre_reccomender('DISCONNECT')"
   ]
  },
  {
   "cell_type": "markdown",
   "metadata": {},
   "source": [
    "Building a recommender based on tags i.e diretors and cast"
   ]
  },
  {
   "cell_type": "code",
   "execution_count": 111,
   "metadata": {},
   "outputs": [],
   "source": [
    "# \n",
    "tag_count = CountVectorizer()\n",
    "tag_matrix = tag_count.fit_transform(content['tags'])"
   ]
  },
  {
   "cell_type": "code",
   "execution_count": 112,
   "metadata": {},
   "outputs": [
    {
     "data": {
      "text/html": [
       "<div>\n",
       "<style scoped>\n",
       "    .dataframe tbody tr th:only-of-type {\n",
       "        vertical-align: middle;\n",
       "    }\n",
       "\n",
       "    .dataframe tbody tr th {\n",
       "        vertical-align: top;\n",
       "    }\n",
       "\n",
       "    .dataframe thead th {\n",
       "        text-align: right;\n",
       "    }\n",
       "</style>\n",
       "<table border=\"1\" class=\"dataframe\">\n",
       "  <thead>\n",
       "    <tr style=\"text-align: right;\">\n",
       "      <th></th>\n",
       "      <th>1</th>\n",
       "      <th>2</th>\n",
       "      <th>3</th>\n",
       "      <th>4</th>\n",
       "      <th>5</th>\n",
       "      <th>6</th>\n",
       "      <th>7</th>\n",
       "      <th>8</th>\n",
       "      <th>9</th>\n",
       "      <th>10</th>\n",
       "      <th>...</th>\n",
       "      <th>99</th>\n",
       "      <th>100</th>\n",
       "      <th>101</th>\n",
       "      <th>102</th>\n",
       "      <th>103</th>\n",
       "      <th>104</th>\n",
       "      <th>105</th>\n",
       "      <th>106</th>\n",
       "      <th>107</th>\n",
       "      <th>108</th>\n",
       "    </tr>\n",
       "  </thead>\n",
       "  <tbody>\n",
       "    <tr>\n",
       "      <th>1</th>\n",
       "      <td>1.0</td>\n",
       "      <td>0.0</td>\n",
       "      <td>0.0</td>\n",
       "      <td>0.0</td>\n",
       "      <td>0.0</td>\n",
       "      <td>0.0</td>\n",
       "      <td>0.0</td>\n",
       "      <td>0.0</td>\n",
       "      <td>0.0</td>\n",
       "      <td>0.0</td>\n",
       "      <td>...</td>\n",
       "      <td>0.0</td>\n",
       "      <td>0.0</td>\n",
       "      <td>0.0</td>\n",
       "      <td>0.0</td>\n",
       "      <td>0.0</td>\n",
       "      <td>0.0</td>\n",
       "      <td>0.0</td>\n",
       "      <td>0.0</td>\n",
       "      <td>0.0</td>\n",
       "      <td>0.0</td>\n",
       "    </tr>\n",
       "    <tr>\n",
       "      <th>2</th>\n",
       "      <td>0.0</td>\n",
       "      <td>1.0</td>\n",
       "      <td>0.0</td>\n",
       "      <td>0.0</td>\n",
       "      <td>0.0</td>\n",
       "      <td>0.0</td>\n",
       "      <td>0.0</td>\n",
       "      <td>0.0</td>\n",
       "      <td>0.0</td>\n",
       "      <td>0.0</td>\n",
       "      <td>...</td>\n",
       "      <td>0.0</td>\n",
       "      <td>0.0</td>\n",
       "      <td>0.0</td>\n",
       "      <td>0.0</td>\n",
       "      <td>0.0</td>\n",
       "      <td>0.0</td>\n",
       "      <td>0.0</td>\n",
       "      <td>0.0</td>\n",
       "      <td>0.0</td>\n",
       "      <td>0.0</td>\n",
       "    </tr>\n",
       "    <tr>\n",
       "      <th>3</th>\n",
       "      <td>0.0</td>\n",
       "      <td>0.0</td>\n",
       "      <td>1.0</td>\n",
       "      <td>0.0</td>\n",
       "      <td>0.0</td>\n",
       "      <td>0.0</td>\n",
       "      <td>0.0</td>\n",
       "      <td>0.0</td>\n",
       "      <td>0.0</td>\n",
       "      <td>0.0</td>\n",
       "      <td>...</td>\n",
       "      <td>0.0</td>\n",
       "      <td>0.0</td>\n",
       "      <td>0.0</td>\n",
       "      <td>0.0</td>\n",
       "      <td>0.0</td>\n",
       "      <td>0.0</td>\n",
       "      <td>0.0</td>\n",
       "      <td>0.0</td>\n",
       "      <td>0.0</td>\n",
       "      <td>0.0</td>\n",
       "    </tr>\n",
       "    <tr>\n",
       "      <th>4</th>\n",
       "      <td>0.0</td>\n",
       "      <td>0.0</td>\n",
       "      <td>0.0</td>\n",
       "      <td>1.0</td>\n",
       "      <td>0.0</td>\n",
       "      <td>0.0</td>\n",
       "      <td>0.0</td>\n",
       "      <td>0.0</td>\n",
       "      <td>0.0</td>\n",
       "      <td>0.0</td>\n",
       "      <td>...</td>\n",
       "      <td>0.0</td>\n",
       "      <td>0.0</td>\n",
       "      <td>0.0</td>\n",
       "      <td>0.0</td>\n",
       "      <td>0.0</td>\n",
       "      <td>0.0</td>\n",
       "      <td>0.0</td>\n",
       "      <td>0.0</td>\n",
       "      <td>0.0</td>\n",
       "      <td>0.0</td>\n",
       "    </tr>\n",
       "    <tr>\n",
       "      <th>5</th>\n",
       "      <td>0.0</td>\n",
       "      <td>0.0</td>\n",
       "      <td>0.0</td>\n",
       "      <td>0.0</td>\n",
       "      <td>1.0</td>\n",
       "      <td>0.0</td>\n",
       "      <td>0.0</td>\n",
       "      <td>0.0</td>\n",
       "      <td>0.0</td>\n",
       "      <td>0.0</td>\n",
       "      <td>...</td>\n",
       "      <td>0.0</td>\n",
       "      <td>0.0</td>\n",
       "      <td>0.0</td>\n",
       "      <td>0.0</td>\n",
       "      <td>0.0</td>\n",
       "      <td>0.0</td>\n",
       "      <td>0.0</td>\n",
       "      <td>0.0</td>\n",
       "      <td>0.0</td>\n",
       "      <td>0.0</td>\n",
       "    </tr>\n",
       "  </tbody>\n",
       "</table>\n",
       "<p>5 rows × 101 columns</p>\n",
       "</div>"
      ],
      "text/plain": [
       "   1    2    3    4    5    6    7    8    9    10   ...  99   100  101  102  \\\n",
       "1  1.0  0.0  0.0  0.0  0.0  0.0  0.0  0.0  0.0  0.0  ...  0.0  0.0  0.0  0.0   \n",
       "2  0.0  1.0  0.0  0.0  0.0  0.0  0.0  0.0  0.0  0.0  ...  0.0  0.0  0.0  0.0   \n",
       "3  0.0  0.0  1.0  0.0  0.0  0.0  0.0  0.0  0.0  0.0  ...  0.0  0.0  0.0  0.0   \n",
       "4  0.0  0.0  0.0  1.0  0.0  0.0  0.0  0.0  0.0  0.0  ...  0.0  0.0  0.0  0.0   \n",
       "5  0.0  0.0  0.0  0.0  1.0  0.0  0.0  0.0  0.0  0.0  ...  0.0  0.0  0.0  0.0   \n",
       "\n",
       "   103  104  105  106  107  108  \n",
       "1  0.0  0.0  0.0  0.0  0.0  0.0  \n",
       "2  0.0  0.0  0.0  0.0  0.0  0.0  \n",
       "3  0.0  0.0  0.0  0.0  0.0  0.0  \n",
       "4  0.0  0.0  0.0  0.0  0.0  0.0  \n",
       "5  0.0  0.0  0.0  0.0  0.0  0.0  \n",
       "\n",
       "[5 rows x 101 columns]"
      ]
     },
     "execution_count": 112,
     "metadata": {},
     "output_type": "execute_result"
    }
   ],
   "source": [
    "tag_similarity = pd.DataFrame(cosine_similarity(tag_matrix, tag_matrix), index=content['id'].values, columns=content['id'].values)\n",
    "tag_similarity.head()"
   ]
  },
  {
   "cell_type": "code",
   "execution_count": 146,
   "metadata": {},
   "outputs": [],
   "source": [
    "# Pickling the similarity dataframe for use in deployment.\n",
    "tag_similarity.to_pickle(\"./tag_similarity.pkl\")"
   ]
  },
  {
   "cell_type": "code",
   "execution_count": 147,
   "metadata": {},
   "outputs": [],
   "source": [
    "def tag_reccomender(title):\n",
    "    title_id = content[content['title'] == title]['id'].values\n",
    "    similar_id = tag_similarity[title_id].nlargest(6, title_id).index[1:]\n",
    "    similar_title = content[content['id'].isin(similar_id)]['title'].values.tolist()\n",
    "    return similar_title"
   ]
  },
  {
   "cell_type": "code",
   "execution_count": 148,
   "metadata": {},
   "outputs": [
    {
     "data": {
      "text/plain": [
       "['NAIROBI HALF LIFE',\n",
       " 'KATUTURA',\n",
       " 'DISCONNECT',\n",
       " 'LOVE, ZAWADI',\n",
       " 'LOVE, ZAWADI x BLURRED']"
      ]
     },
     "execution_count": 148,
     "metadata": {},
     "output_type": "execute_result"
    }
   ],
   "source": [
    "tag_reccomender('BLURRED')"
   ]
  },
  {
   "cell_type": "markdown",
   "metadata": {},
   "source": [
    "Using synopsis, genres and tags to make recommendations"
   ]
  },
  {
   "cell_type": "code",
   "execution_count": 115,
   "metadata": {},
   "outputs": [],
   "source": [
    "soup_count = CountVectorizer()\n",
    "soup_matrix = soup_count.fit_transform(content['soup'])"
   ]
  },
  {
   "cell_type": "code",
   "execution_count": 116,
   "metadata": {},
   "outputs": [
    {
     "data": {
      "text/html": [
       "<div>\n",
       "<style scoped>\n",
       "    .dataframe tbody tr th:only-of-type {\n",
       "        vertical-align: middle;\n",
       "    }\n",
       "\n",
       "    .dataframe tbody tr th {\n",
       "        vertical-align: top;\n",
       "    }\n",
       "\n",
       "    .dataframe thead th {\n",
       "        text-align: right;\n",
       "    }\n",
       "</style>\n",
       "<table border=\"1\" class=\"dataframe\">\n",
       "  <thead>\n",
       "    <tr style=\"text-align: right;\">\n",
       "      <th></th>\n",
       "      <th>1</th>\n",
       "      <th>2</th>\n",
       "      <th>3</th>\n",
       "      <th>4</th>\n",
       "      <th>5</th>\n",
       "      <th>6</th>\n",
       "      <th>7</th>\n",
       "      <th>8</th>\n",
       "      <th>9</th>\n",
       "      <th>10</th>\n",
       "      <th>...</th>\n",
       "      <th>99</th>\n",
       "      <th>100</th>\n",
       "      <th>101</th>\n",
       "      <th>102</th>\n",
       "      <th>103</th>\n",
       "      <th>104</th>\n",
       "      <th>105</th>\n",
       "      <th>106</th>\n",
       "      <th>107</th>\n",
       "      <th>108</th>\n",
       "    </tr>\n",
       "  </thead>\n",
       "  <tbody>\n",
       "    <tr>\n",
       "      <th>1</th>\n",
       "      <td>1.000000</td>\n",
       "      <td>0.142134</td>\n",
       "      <td>0.084440</td>\n",
       "      <td>0.113961</td>\n",
       "      <td>0.124838</td>\n",
       "      <td>0.119808</td>\n",
       "      <td>0.120701</td>\n",
       "      <td>0.048751</td>\n",
       "      <td>0.046114</td>\n",
       "      <td>0.086607</td>\n",
       "      <td>...</td>\n",
       "      <td>0.049041</td>\n",
       "      <td>0.046524</td>\n",
       "      <td>0.026624</td>\n",
       "      <td>0.031521</td>\n",
       "      <td>0.082637</td>\n",
       "      <td>0.092319</td>\n",
       "      <td>0.057236</td>\n",
       "      <td>0.063564</td>\n",
       "      <td>0.043863</td>\n",
       "      <td>0.053722</td>\n",
       "    </tr>\n",
       "    <tr>\n",
       "      <th>2</th>\n",
       "      <td>0.142134</td>\n",
       "      <td>1.000000</td>\n",
       "      <td>0.049507</td>\n",
       "      <td>0.133631</td>\n",
       "      <td>0.097590</td>\n",
       "      <td>0.093659</td>\n",
       "      <td>0.084921</td>\n",
       "      <td>0.028583</td>\n",
       "      <td>0.027037</td>\n",
       "      <td>0.040622</td>\n",
       "      <td>...</td>\n",
       "      <td>0.023002</td>\n",
       "      <td>0.027277</td>\n",
       "      <td>0.031220</td>\n",
       "      <td>0.000000</td>\n",
       "      <td>0.072675</td>\n",
       "      <td>0.036084</td>\n",
       "      <td>0.033558</td>\n",
       "      <td>0.037268</td>\n",
       "      <td>0.102869</td>\n",
       "      <td>0.062994</td>\n",
       "    </tr>\n",
       "    <tr>\n",
       "      <th>3</th>\n",
       "      <td>0.084440</td>\n",
       "      <td>0.049507</td>\n",
       "      <td>1.000000</td>\n",
       "      <td>0.132314</td>\n",
       "      <td>0.072471</td>\n",
       "      <td>0.069552</td>\n",
       "      <td>0.134535</td>\n",
       "      <td>0.000000</td>\n",
       "      <td>0.048187</td>\n",
       "      <td>0.108599</td>\n",
       "      <td>...</td>\n",
       "      <td>0.047829</td>\n",
       "      <td>0.000000</td>\n",
       "      <td>0.064915</td>\n",
       "      <td>0.021958</td>\n",
       "      <td>0.115135</td>\n",
       "      <td>0.042875</td>\n",
       "      <td>0.039873</td>\n",
       "      <td>0.088561</td>\n",
       "      <td>0.091670</td>\n",
       "      <td>0.037424</td>\n",
       "    </tr>\n",
       "    <tr>\n",
       "      <th>4</th>\n",
       "      <td>0.113961</td>\n",
       "      <td>0.133631</td>\n",
       "      <td>0.132314</td>\n",
       "      <td>1.000000</td>\n",
       "      <td>0.104328</td>\n",
       "      <td>0.100125</td>\n",
       "      <td>0.060523</td>\n",
       "      <td>0.030557</td>\n",
       "      <td>0.028904</td>\n",
       "      <td>0.086854</td>\n",
       "      <td>...</td>\n",
       "      <td>0.024590</td>\n",
       "      <td>0.000000</td>\n",
       "      <td>0.016688</td>\n",
       "      <td>0.019757</td>\n",
       "      <td>0.077693</td>\n",
       "      <td>0.077152</td>\n",
       "      <td>0.035875</td>\n",
       "      <td>0.079682</td>\n",
       "      <td>0.082479</td>\n",
       "      <td>0.067344</td>\n",
       "    </tr>\n",
       "    <tr>\n",
       "      <th>5</th>\n",
       "      <td>0.124838</td>\n",
       "      <td>0.097590</td>\n",
       "      <td>0.072471</td>\n",
       "      <td>0.104328</td>\n",
       "      <td>1.000000</td>\n",
       "      <td>0.109682</td>\n",
       "      <td>0.082874</td>\n",
       "      <td>0.050210</td>\n",
       "      <td>0.158312</td>\n",
       "      <td>0.107037</td>\n",
       "      <td>...</td>\n",
       "      <td>0.087547</td>\n",
       "      <td>0.015972</td>\n",
       "      <td>0.036561</td>\n",
       "      <td>0.021642</td>\n",
       "      <td>0.070924</td>\n",
       "      <td>0.063387</td>\n",
       "      <td>0.019649</td>\n",
       "      <td>0.065465</td>\n",
       "      <td>0.120468</td>\n",
       "      <td>0.055328</td>\n",
       "    </tr>\n",
       "  </tbody>\n",
       "</table>\n",
       "<p>5 rows × 101 columns</p>\n",
       "</div>"
      ],
      "text/plain": [
       "        1         2         3         4         5         6         7    \\\n",
       "1  1.000000  0.142134  0.084440  0.113961  0.124838  0.119808  0.120701   \n",
       "2  0.142134  1.000000  0.049507  0.133631  0.097590  0.093659  0.084921   \n",
       "3  0.084440  0.049507  1.000000  0.132314  0.072471  0.069552  0.134535   \n",
       "4  0.113961  0.133631  0.132314  1.000000  0.104328  0.100125  0.060523   \n",
       "5  0.124838  0.097590  0.072471  0.104328  1.000000  0.109682  0.082874   \n",
       "\n",
       "        8         9         10   ...       99        100       101       102  \\\n",
       "1  0.048751  0.046114  0.086607  ...  0.049041  0.046524  0.026624  0.031521   \n",
       "2  0.028583  0.027037  0.040622  ...  0.023002  0.027277  0.031220  0.000000   \n",
       "3  0.000000  0.048187  0.108599  ...  0.047829  0.000000  0.064915  0.021958   \n",
       "4  0.030557  0.028904  0.086854  ...  0.024590  0.000000  0.016688  0.019757   \n",
       "5  0.050210  0.158312  0.107037  ...  0.087547  0.015972  0.036561  0.021642   \n",
       "\n",
       "        103       104       105       106       107       108  \n",
       "1  0.082637  0.092319  0.057236  0.063564  0.043863  0.053722  \n",
       "2  0.072675  0.036084  0.033558  0.037268  0.102869  0.062994  \n",
       "3  0.115135  0.042875  0.039873  0.088561  0.091670  0.037424  \n",
       "4  0.077693  0.077152  0.035875  0.079682  0.082479  0.067344  \n",
       "5  0.070924  0.063387  0.019649  0.065465  0.120468  0.055328  \n",
       "\n",
       "[5 rows x 101 columns]"
      ]
     },
     "execution_count": 116,
     "metadata": {},
     "output_type": "execute_result"
    }
   ],
   "source": [
    "soup_similarity = pd.DataFrame(cosine_similarity(soup_matrix, soup_matrix), index=content['id'].values, columns=content['id'].values)\n",
    "soup_similarity.head()"
   ]
  },
  {
   "cell_type": "code",
   "execution_count": 138,
   "metadata": {},
   "outputs": [],
   "source": [
    "# Pickling the similarity dataframe for use in deployment.\n",
    "soup_similarity.to_pickle(\"./soup_similarity.pkl\")"
   ]
  },
  {
   "cell_type": "code",
   "execution_count": 135,
   "metadata": {},
   "outputs": [],
   "source": [
    "def general_reccomender(title):\n",
    "    title_id = content[content['title'] == title]['id'].values\n",
    "    similar_id = soup_similarity[title_id].nlargest(6, title_id).index[1:]\n",
    "    similar_title = content[content['id'].isin(similar_id)]['title'].values.tolist()\n",
    "    return similar_title"
   ]
  },
  {
   "cell_type": "code",
   "execution_count": 136,
   "metadata": {},
   "outputs": [
    {
     "data": {
      "text/plain": [
       "['JONAROBI',\n",
       " 'Living in Bondage: Breaking Free',\n",
       " 'YOU AGAIN',\n",
       " 'BLURRED',\n",
       " 'Christmas Spirit']"
      ]
     },
     "execution_count": 136,
     "metadata": {},
     "output_type": "execute_result"
    }
   ],
   "source": [
    "general_reccomender('DISCONNECT')"
   ]
  },
  {
   "cell_type": "markdown",
   "metadata": {},
   "source": [
    "We can make recommendation based on other content features like director, production company. My Movies Africa don't have this data or in the case of directors, not in a suitable form. Therefore we will use dummmy data to build a model based on these features so that it can be used once the data is available.\n"
   ]
  },
  {
   "cell_type": "markdown",
   "metadata": {},
   "source": [
    "Building a recommender based on similar directors"
   ]
  },
  {
   "cell_type": "code",
   "execution_count": 119,
   "metadata": {},
   "outputs": [
    {
     "name": "stdout",
     "output_type": "stream",
     "text": [
      "['Sheila Boyd', 'Jasmine Richards', 'Darrell Jones', 'Mary Hamilton', 'Pamela Barnes', 'Abigail Cox', 'Mathew Phillips', 'Benjamin Dominguez', 'Tiffany Cooper', 'Johnny Hawkins', 'Jeremiah Kirk', 'Robin Henderson', 'Eric Schwartz', 'Courtney Sharp', 'Austin Patrick', 'Eric Norman', 'Michael Brewer', 'Jessica Cline', 'Sarah Patton', 'Heather Mcdowell', 'John Leonard', 'Katrina Herrera', 'Mary Kemp', 'Joseph Ruiz', 'Greg Andrade', 'Kelly Wiley', 'Robert Johnson', 'Lisa Graham', 'Rachel King', 'Kaitlyn Simpson']\n"
     ]
    }
   ],
   "source": [
    "# Creating dummy director names\n",
    "from faker import Faker\n",
    "fake = Faker()\n",
    "fake_directors = []\n",
    "for director in range(30):\n",
    "    fake_directors.append(fake.name())\n",
    "print(fake_directors)"
   ]
  },
  {
   "cell_type": "code",
   "execution_count": 120,
   "metadata": {},
   "outputs": [],
   "source": [
    "content['director'] = ''"
   ]
  },
  {
   "cell_type": "code",
   "execution_count": 121,
   "metadata": {},
   "outputs": [
    {
     "name": "stderr",
     "output_type": "stream",
     "text": [
      "C:\\Python37\\lib\\site-packages\\ipykernel_launcher.py:4: SettingWithCopyWarning: \n",
      "A value is trying to be set on a copy of a slice from a DataFrame\n",
      "\n",
      "See the caveats in the documentation: https://pandas.pydata.org/pandas-docs/stable/user_guide/indexing.html#returning-a-view-versus-a-copy\n",
      "  after removing the cwd from sys.path.\n"
     ]
    }
   ],
   "source": [
    "# Creating a column in content with the directors name\n",
    "import random\n",
    "for i in range(len(content) + 1):\n",
    "    content['director'][i] = random.choice(fake_directors)"
   ]
  },
  {
   "cell_type": "code",
   "execution_count": 122,
   "metadata": {},
   "outputs": [
    {
     "data": {
      "text/html": [
       "<div>\n",
       "<style scoped>\n",
       "    .dataframe tbody tr th:only-of-type {\n",
       "        vertical-align: middle;\n",
       "    }\n",
       "\n",
       "    .dataframe tbody tr th {\n",
       "        vertical-align: top;\n",
       "    }\n",
       "\n",
       "    .dataframe thead th {\n",
       "        text-align: right;\n",
       "    }\n",
       "</style>\n",
       "<table border=\"1\" class=\"dataframe\">\n",
       "  <thead>\n",
       "    <tr style=\"text-align: right;\">\n",
       "      <th></th>\n",
       "      <th>id</th>\n",
       "      <th>title</th>\n",
       "      <th>synopsis</th>\n",
       "      <th>genres</th>\n",
       "      <th>tags</th>\n",
       "      <th>soup</th>\n",
       "      <th>director</th>\n",
       "    </tr>\n",
       "  </thead>\n",
       "  <tbody>\n",
       "    <tr>\n",
       "      <th>0</th>\n",
       "      <td>1</td>\n",
       "      <td>NAIROBI HALF LIFE</td>\n",
       "      <td>awardwinning story young aspiring actor upcoun...</td>\n",
       "      <td>action adventure crime drama suspense</td>\n",
       "      <td>josephwairimu olwenyamaina nancywanjikukaranja...</td>\n",
       "      <td>awardwinning story young aspiring actor upcoun...</td>\n",
       "      <td>Courtney Sharp</td>\n",
       "    </tr>\n",
       "    <tr>\n",
       "      <th>1</th>\n",
       "      <td>2</td>\n",
       "      <td>KATUTURA</td>\n",
       "      <td>township windhoek exconvict dangi deal living ...</td>\n",
       "      <td>action crime drama suspense</td>\n",
       "      <td>chopstshoopara obedemvula giftuzera odillemull...</td>\n",
       "      <td>township windhoek exconvict dangi deal living ...</td>\n",
       "      <td>Jasmine Richards</td>\n",
       "    </tr>\n",
       "    <tr>\n",
       "      <th>2</th>\n",
       "      <td>3</td>\n",
       "      <td>SOUL BOY</td>\n",
       "      <td>story 14 yearold abila one morning teenager di...</td>\n",
       "      <td>adventure drama family supernatural suspense t...</td>\n",
       "      <td>samsonodhiambo leiladayanopou krysteensavane f...</td>\n",
       "      <td>story 14 yearold abila one morning teenager di...</td>\n",
       "      <td>Sarah Patton</td>\n",
       "    </tr>\n",
       "    <tr>\n",
       "      <th>3</th>\n",
       "      <td>4</td>\n",
       "      <td>KATI KATI</td>\n",
       "      <td>young woman kaleche memory life death helped a...</td>\n",
       "      <td>drama supernatural suspense thriller</td>\n",
       "      <td>nyokabigethaiga elsaphannjora paulogola peterk...</td>\n",
       "      <td>young woman kaleche memory life death helped a...</td>\n",
       "      <td>Mary Kemp</td>\n",
       "    </tr>\n",
       "    <tr>\n",
       "      <th>4</th>\n",
       "      <td>5</td>\n",
       "      <td>SOMETHING NECESSARY</td>\n",
       "      <td>awardwinning director judy kibinge tells story...</td>\n",
       "      <td>crime drama family political</td>\n",
       "      <td>hildajepkoech kipngenokiruiduncan carolynecheb...</td>\n",
       "      <td>awardwinning director judy kibinge tells story...</td>\n",
       "      <td>Eric Schwartz</td>\n",
       "    </tr>\n",
       "  </tbody>\n",
       "</table>\n",
       "</div>"
      ],
      "text/plain": [
       "   id                title                                           synopsis  \\\n",
       "0   1    NAIROBI HALF LIFE  awardwinning story young aspiring actor upcoun...   \n",
       "1   2             KATUTURA  township windhoek exconvict dangi deal living ...   \n",
       "2   3             SOUL BOY  story 14 yearold abila one morning teenager di...   \n",
       "3   4            KATI KATI  young woman kaleche memory life death helped a...   \n",
       "4   5  SOMETHING NECESSARY  awardwinning director judy kibinge tells story...   \n",
       "\n",
       "                                              genres  \\\n",
       "0              action adventure crime drama suspense   \n",
       "1                        action crime drama suspense   \n",
       "2  adventure drama family supernatural suspense t...   \n",
       "3               drama supernatural suspense thriller   \n",
       "4                       crime drama family political   \n",
       "\n",
       "                                                tags  \\\n",
       "0  josephwairimu olwenyamaina nancywanjikukaranja...   \n",
       "1  chopstshoopara obedemvula giftuzera odillemull...   \n",
       "2  samsonodhiambo leiladayanopou krysteensavane f...   \n",
       "3  nyokabigethaiga elsaphannjora paulogola peterk...   \n",
       "4  hildajepkoech kipngenokiruiduncan carolynecheb...   \n",
       "\n",
       "                                                soup          director  \n",
       "0  awardwinning story young aspiring actor upcoun...    Courtney Sharp  \n",
       "1  township windhoek exconvict dangi deal living ...  Jasmine Richards  \n",
       "2  story 14 yearold abila one morning teenager di...      Sarah Patton  \n",
       "3  young woman kaleche memory life death helped a...         Mary Kemp  \n",
       "4  awardwinning director judy kibinge tells story...     Eric Schwartz  "
      ]
     },
     "execution_count": 122,
     "metadata": {},
     "output_type": "execute_result"
    }
   ],
   "source": [
    "content.head()"
   ]
  },
  {
   "cell_type": "code",
   "execution_count": 149,
   "metadata": {},
   "outputs": [],
   "source": [
    "def director_recommender(title):\n",
    "    director = content[content['title'] == title]['director'].values.tolist()\n",
    "    director_movies = content[content['director'].isin(director)][['title']]\n",
    "    return director_movies[director_movies['title'] != title]['title'].values.tolist()"
   ]
  },
  {
   "cell_type": "code",
   "execution_count": 150,
   "metadata": {},
   "outputs": [
    {
     "data": {
      "text/plain": [
       "['TWENDE BERLIN',\n",
       " 'THE XYZ SHOW presents THE BEST OF ARUTODE, VOLUME 1',\n",
       " 'THE XYZ SHOW presents THE BEST OF TINGA, VOLUME 1',\n",
       " '6:59',\n",
       " 'The Cinderella  Effect: The Angela Ellington Story']"
      ]
     },
     "execution_count": 150,
     "metadata": {},
     "output_type": "execute_result"
    }
   ],
   "source": [
    "director_recommender('DISCONNECT')"
   ]
  },
  {
   "cell_type": "markdown",
   "metadata": {},
   "source": [
    "Building a recommender based on similar production companies"
   ]
  },
  {
   "cell_type": "code",
   "execution_count": 125,
   "metadata": {},
   "outputs": [
    {
     "name": "stderr",
     "output_type": "stream",
     "text": [
      "C:\\Python37\\lib\\site-packages\\ipykernel_launcher.py:8: SettingWithCopyWarning: \n",
      "A value is trying to be set on a copy of a slice from a DataFrame\n",
      "\n",
      "See the caveats in the documentation: https://pandas.pydata.org/pandas-docs/stable/user_guide/indexing.html#returning-a-view-versus-a-copy\n",
      "  \n"
     ]
    }
   ],
   "source": [
    "# Creating fake production companies\n",
    "fake_companies = ['Tribe Studios', 'Arrowhead', 'Allies Brothers', 'Capital Two', 'Pulse Comics', 'XYZ Nation', 'Fluent',\n",
    "'Boiiii', 'Jingle Bells', 'Emotional Damage!', 'Funny Entertainment', 'Okay Pictures', 'Good Guys', 'The Truth']\n",
    "\n",
    "content['production_company'] = ''\n",
    "\n",
    "for i in range(len(content) + 1):\n",
    "    content['production_company'][i] = random.choice(fake_companies)\n"
   ]
  },
  {
   "cell_type": "code",
   "execution_count": 126,
   "metadata": {},
   "outputs": [
    {
     "data": {
      "text/html": [
       "<div>\n",
       "<style scoped>\n",
       "    .dataframe tbody tr th:only-of-type {\n",
       "        vertical-align: middle;\n",
       "    }\n",
       "\n",
       "    .dataframe tbody tr th {\n",
       "        vertical-align: top;\n",
       "    }\n",
       "\n",
       "    .dataframe thead th {\n",
       "        text-align: right;\n",
       "    }\n",
       "</style>\n",
       "<table border=\"1\" class=\"dataframe\">\n",
       "  <thead>\n",
       "    <tr style=\"text-align: right;\">\n",
       "      <th></th>\n",
       "      <th>id</th>\n",
       "      <th>title</th>\n",
       "      <th>synopsis</th>\n",
       "      <th>genres</th>\n",
       "      <th>tags</th>\n",
       "      <th>soup</th>\n",
       "      <th>director</th>\n",
       "      <th>production_company</th>\n",
       "    </tr>\n",
       "  </thead>\n",
       "  <tbody>\n",
       "    <tr>\n",
       "      <th>0</th>\n",
       "      <td>1</td>\n",
       "      <td>NAIROBI HALF LIFE</td>\n",
       "      <td>awardwinning story young aspiring actor upcoun...</td>\n",
       "      <td>action adventure crime drama suspense</td>\n",
       "      <td>josephwairimu olwenyamaina nancywanjikukaranja...</td>\n",
       "      <td>awardwinning story young aspiring actor upcoun...</td>\n",
       "      <td>Courtney Sharp</td>\n",
       "      <td>The Truth</td>\n",
       "    </tr>\n",
       "    <tr>\n",
       "      <th>1</th>\n",
       "      <td>2</td>\n",
       "      <td>KATUTURA</td>\n",
       "      <td>township windhoek exconvict dangi deal living ...</td>\n",
       "      <td>action crime drama suspense</td>\n",
       "      <td>chopstshoopara obedemvula giftuzera odillemull...</td>\n",
       "      <td>township windhoek exconvict dangi deal living ...</td>\n",
       "      <td>Jasmine Richards</td>\n",
       "      <td>Okay Pictures</td>\n",
       "    </tr>\n",
       "    <tr>\n",
       "      <th>2</th>\n",
       "      <td>3</td>\n",
       "      <td>SOUL BOY</td>\n",
       "      <td>story 14 yearold abila one morning teenager di...</td>\n",
       "      <td>adventure drama family supernatural suspense t...</td>\n",
       "      <td>samsonodhiambo leiladayanopou krysteensavane f...</td>\n",
       "      <td>story 14 yearold abila one morning teenager di...</td>\n",
       "      <td>Sarah Patton</td>\n",
       "      <td>Pulse Comics</td>\n",
       "    </tr>\n",
       "    <tr>\n",
       "      <th>3</th>\n",
       "      <td>4</td>\n",
       "      <td>KATI KATI</td>\n",
       "      <td>young woman kaleche memory life death helped a...</td>\n",
       "      <td>drama supernatural suspense thriller</td>\n",
       "      <td>nyokabigethaiga elsaphannjora paulogola peterk...</td>\n",
       "      <td>young woman kaleche memory life death helped a...</td>\n",
       "      <td>Mary Kemp</td>\n",
       "      <td>Tribe Studios</td>\n",
       "    </tr>\n",
       "    <tr>\n",
       "      <th>4</th>\n",
       "      <td>5</td>\n",
       "      <td>SOMETHING NECESSARY</td>\n",
       "      <td>awardwinning director judy kibinge tells story...</td>\n",
       "      <td>crime drama family political</td>\n",
       "      <td>hildajepkoech kipngenokiruiduncan carolynecheb...</td>\n",
       "      <td>awardwinning director judy kibinge tells story...</td>\n",
       "      <td>Eric Schwartz</td>\n",
       "      <td>XYZ Nation</td>\n",
       "    </tr>\n",
       "  </tbody>\n",
       "</table>\n",
       "</div>"
      ],
      "text/plain": [
       "   id                title                                           synopsis  \\\n",
       "0   1    NAIROBI HALF LIFE  awardwinning story young aspiring actor upcoun...   \n",
       "1   2             KATUTURA  township windhoek exconvict dangi deal living ...   \n",
       "2   3             SOUL BOY  story 14 yearold abila one morning teenager di...   \n",
       "3   4            KATI KATI  young woman kaleche memory life death helped a...   \n",
       "4   5  SOMETHING NECESSARY  awardwinning director judy kibinge tells story...   \n",
       "\n",
       "                                              genres  \\\n",
       "0              action adventure crime drama suspense   \n",
       "1                        action crime drama suspense   \n",
       "2  adventure drama family supernatural suspense t...   \n",
       "3               drama supernatural suspense thriller   \n",
       "4                       crime drama family political   \n",
       "\n",
       "                                                tags  \\\n",
       "0  josephwairimu olwenyamaina nancywanjikukaranja...   \n",
       "1  chopstshoopara obedemvula giftuzera odillemull...   \n",
       "2  samsonodhiambo leiladayanopou krysteensavane f...   \n",
       "3  nyokabigethaiga elsaphannjora paulogola peterk...   \n",
       "4  hildajepkoech kipngenokiruiduncan carolynecheb...   \n",
       "\n",
       "                                                soup          director  \\\n",
       "0  awardwinning story young aspiring actor upcoun...    Courtney Sharp   \n",
       "1  township windhoek exconvict dangi deal living ...  Jasmine Richards   \n",
       "2  story 14 yearold abila one morning teenager di...      Sarah Patton   \n",
       "3  young woman kaleche memory life death helped a...         Mary Kemp   \n",
       "4  awardwinning director judy kibinge tells story...     Eric Schwartz   \n",
       "\n",
       "  production_company  \n",
       "0          The Truth  \n",
       "1      Okay Pictures  \n",
       "2       Pulse Comics  \n",
       "3      Tribe Studios  \n",
       "4         XYZ Nation  "
      ]
     },
     "execution_count": 126,
     "metadata": {},
     "output_type": "execute_result"
    }
   ],
   "source": [
    "content.head()"
   ]
  },
  {
   "cell_type": "code",
   "execution_count": 155,
   "metadata": {},
   "outputs": [],
   "source": [
    "def prod_company_recommender(title):\n",
    "    director = content[content['title'] == title]['production_company'].values.tolist()\n",
    "    director_movies = content[content['production_company'].isin(director)][['title']]\n",
    "    return director_movies[director_movies['title'] != title]['title'].values.tolist()"
   ]
  },
  {
   "cell_type": "code",
   "execution_count": 157,
   "metadata": {},
   "outputs": [
    {
     "data": {
      "text/plain": [
       "['KIZINGO', 'LONDON FEVER', 'FROM HERE TO TIMBUKTU', 'WHY U HATE']"
      ]
     },
     "execution_count": 157,
     "metadata": {},
     "output_type": "execute_result"
    }
   ],
   "source": [
    "prod_company_recommender('SOUL BOY')"
   ]
  }
 ],
 "metadata": {
  "interpreter": {
   "hash": "04635d289a519a1410467dd0afb0db42f9184808881ca68b2eb5a687a20a5a94"
  },
  "kernelspec": {
   "display_name": "Python 3.7.6 64-bit",
   "language": "python",
   "name": "python3"
  },
  "language_info": {
   "codemirror_mode": {
    "name": "ipython",
    "version": 3
   },
   "file_extension": ".py",
   "mimetype": "text/x-python",
   "name": "python",
   "nbconvert_exporter": "python",
   "pygments_lexer": "ipython3",
   "version": "3.7.6"
  },
  "orig_nbformat": 4
 },
 "nbformat": 4,
 "nbformat_minor": 2
}
